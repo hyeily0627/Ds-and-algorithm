{
 "cells": [
  {
   "cell_type": "code",
   "execution_count": 47,
   "metadata": {},
   "outputs": [],
   "source": [
    "# file : ds02_syntax.ipynb\n",
    "# desc : 파이썬 기초 복습"
   ]
  },
  {
   "cell_type": "markdown",
   "metadata": {},
   "source": [
    "## 자료구조와 알고리즘\n",
    "\n",
    "- 파이썬 기초문법 복습\n",
    "\n",
    "### 1. 리스트 컨프리헨션(함축)"
   ]
  },
  {
   "cell_type": "code",
   "execution_count": 48,
   "metadata": {},
   "outputs": [
    {
     "data": {
      "text/plain": [
       "[1, 2, 3, 4, 5]"
      ]
     },
     "execution_count": 48,
     "metadata": {},
     "output_type": "execute_result"
    }
   ],
   "source": [
    "nums = []\n",
    "for i in range(1,6) : # 1,2,3,4,5 # for 반복문으로 \n",
    "   nums.append(i) \n",
    "\n",
    "nums"
   ]
  },
  {
   "cell_type": "code",
   "execution_count": 49,
   "metadata": {},
   "outputs": [
    {
     "data": {
      "text/plain": [
       "[1, 2, 3, 4, 5]"
      ]
     },
     "execution_count": 49,
     "metadata": {},
     "output_type": "execute_result"
    }
   ],
   "source": [
    "nums = list(range(1,6)) # 클래스로 생성\n",
    "nums"
   ]
  },
  {
   "cell_type": "code",
   "execution_count": 50,
   "metadata": {},
   "outputs": [
    {
     "data": {
      "text/plain": [
       "[1, 2, 3, 4, 5]"
      ]
     },
     "execution_count": 50,
     "metadata": {},
     "output_type": "execute_result"
    }
   ],
   "source": [
    "nums = [i for i in range(1,6)] # 리스트 함축으로\n",
    "nums"
   ]
  },
  {
   "cell_type": "code",
   "execution_count": 51,
   "metadata": {},
   "outputs": [
    {
     "data": {
      "text/plain": [
       "[1, 4, 9, 16, 25]"
      ]
     },
     "execution_count": 51,
     "metadata": {},
     "output_type": "execute_result"
    }
   ],
   "source": [
    "nums = [i * i for i in range(1,6)]\n",
    "nums"
   ]
  },
  {
   "cell_type": "code",
   "execution_count": 52,
   "metadata": {},
   "outputs": [
    {
     "data": {
      "text/plain": [
       "[1, 4, 9, 16, 25]"
      ]
     },
     "execution_count": 52,
     "metadata": {},
     "output_type": "execute_result"
    }
   ],
   "source": [
    "nums = [] \n",
    "for i in range(1,6) :\n",
    "    nums.append(i * i)\n",
    "\n",
    "nums"
   ]
  },
  {
   "cell_type": "code",
   "execution_count": 53,
   "metadata": {},
   "outputs": [
    {
     "data": {
      "text/plain": [
       "[3, 6, 9, 12, 15, 18]"
      ]
     },
     "execution_count": 53,
     "metadata": {},
     "output_type": "execute_result"
    }
   ],
   "source": [
    "nums = []\n",
    "nums = [i for i in range(1,21) if i % 3 == 0] # 3의 배수만 리스트 \n",
    "nums"
   ]
  },
  {
   "cell_type": "code",
   "execution_count": 54,
   "metadata": {},
   "outputs": [
    {
     "data": {
      "text/plain": [
       "[[0, 1, 2, 3], [0, 1, 2, 3], [0, 1, 2, 3]]"
      ]
     },
     "execution_count": 54,
     "metadata": {},
     "output_type": "execute_result"
    }
   ],
   "source": [
    "# 2차원 리스트 \n",
    "nums2 = [[i for i in range(4)] for j in range(3)] # [[대괄호 안쪽 = 열] = 행] 즉, 3행 4열 \n",
    "nums2"
   ]
  },
  {
   "cell_type": "markdown",
   "metadata": {},
   "source": [
    "### 세트"
   ]
  },
  {
   "cell_type": "code",
   "execution_count": 55,
   "metadata": {},
   "outputs": [
    {
     "data": {
      "text/plain": [
       "{1, 2, 3}"
      ]
     },
     "execution_count": 55,
     "metadata": {},
     "output_type": "execute_result"
    }
   ],
   "source": [
    "myset = {1, 2, 3, 3, 2, 1} \n",
    "myset\n",
    "\n",
    "# 집합은 같은 수(값)는 중복 제거"
   ]
  },
  {
   "cell_type": "markdown",
   "metadata": {},
   "source": [
    "### 로또번호 생성기"
   ]
  },
  {
   "cell_type": "code",
   "execution_count": 56,
   "metadata": {},
   "outputs": [],
   "source": [
    "import random"
   ]
  },
  {
   "cell_type": "code",
   "execution_count": 57,
   "metadata": {},
   "outputs": [],
   "source": [
    "# 전역변수 선언\n",
    "totalLotto = [] # 최종 로또번호 저장 - 2차원 리스트\n",
    "lotto = [] #한 회별 로또번호 저장 - 1차원 리스트\n",
    "pickNum = 0 \n",
    "count = 0 "
   ]
  },
  {
   "cell_type": "code",
   "execution_count": 58,
   "metadata": {},
   "outputs": [
    {
     "name": "stdout",
     "output_type": "stream",
     "text": [
      "로또 번호 생성을 시작합니다.\n"
     ]
    }
   ],
   "source": [
    "print('로또 번호 생성을 시작합니다.')\n",
    "totalLotto = [] # 로또 결과 리스트 초기화\n",
    "count = int(input('뽑을 횟수 입력 >'))\n",
    "\n",
    "for _ in range(count) : # _(i위치) 반복되는 숫자를 사용하지 않겠다는 의미\n",
    "        lotto = [] \n",
    "        while True : \n",
    "            pickNum = random.randint(1, 45) # 1 ~ 45 사이 수를 저장 \n",
    "            if pickNum not in lotto : # 랜덤으로 뽑은 수가 있으면 패스 \n",
    "                lotto.append(pickNum)\n",
    "            else : \n",
    "                continue # 반복문이 여러개 있으면 자신이 속한 반복문만 다시 반복 \n",
    "\n",
    "            if len(lotto) >= 6: # 숫자를 6개 뽑았으면    \n",
    "                    break # 반목문이 여러개 있으면 자신이 속한 반복문만 빠져나감\n",
    "        totalLotto.append(lotto)"
   ]
  },
  {
   "cell_type": "code",
   "execution_count": 60,
   "metadata": {},
   "outputs": [
    {
     "name": "stdout",
     "output_type": "stream",
     "text": [
      "자동번호 -->  09 17 21 24 33 41 \n",
      "자동번호 -->  02 09 13 32 38 45 \n",
      "자동번호 -->  11 12 22 32 37 38 \n",
      "자동번호 -->  06 18 25 28 34 45 \n",
      "자동번호 -->  04 13 14 27 36 45 \n"
     ]
    }
   ],
   "source": [
    "for item in totalLotto :\n",
    "    item.sort()\n",
    "    print('자동번호 --> ', end =' ')\n",
    "    for i in item : \n",
    "        print(f'{i:02d}', end =' ')\n",
    "\n",
    "    print()"
   ]
  },
  {
   "cell_type": "code",
   "execution_count": null,
   "metadata": {},
   "outputs": [],
   "source": []
  }
 ],
 "metadata": {
  "kernelspec": {
   "display_name": "Python 3",
   "language": "python",
   "name": "python3"
  },
  "language_info": {
   "codemirror_mode": {
    "name": "ipython",
    "version": 3
   },
   "file_extension": ".py",
   "mimetype": "text/x-python",
   "name": "python",
   "nbconvert_exporter": "python",
   "pygments_lexer": "ipython3",
   "version": "3.11.5"
  }
 },
 "nbformat": 4,
 "nbformat_minor": 2
}
