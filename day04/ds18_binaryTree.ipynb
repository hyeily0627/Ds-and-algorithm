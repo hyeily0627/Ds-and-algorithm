{
 "cells": [
  {
   "cell_type": "code",
   "execution_count": 121,
   "metadata": {},
   "outputs": [],
   "source": [
    "# file : ds18_binaryTree.ipynb\n",
    "# desc : 이진 트리 학습 노트북"
   ]
  },
  {
   "cell_type": "markdown",
   "metadata": {},
   "source": [
    "## 자료구조와 알고리즘\n",
    "\n",
    "이진트리\n",
    " \n",
    " ## 이진트리\n",
    " 1. 트리 클래스"
   ]
  },
  {
   "cell_type": "code",
   "execution_count": 122,
   "metadata": {},
   "outputs": [],
   "source": [
    "class TreeNode():\n",
    "    left = None\n",
    "    data = None\n",
    "    right = None\n",
    "\n",
    "    def __init(self) -> None:\n",
    "        self.left = self.rihgt = self.data = None"
   ]
  },
  {
   "cell_type": "markdown",
   "metadata": {},
   "source": [
    "2. 이진트리 생성 "
   ]
  },
  {
   "cell_type": "code",
   "execution_count": null,
   "metadata": {},
   "outputs": [],
   "source": []
  },
  {
   "cell_type": "code",
   "execution_count": 123,
   "metadata": {},
   "outputs": [],
   "source": [
    "node1 = TreeNode()\n",
    "node1.data = '화사' "
   ]
  },
  {
   "cell_type": "code",
   "execution_count": 124,
   "metadata": {},
   "outputs": [],
   "source": [
    "node2 = TreeNode()\n",
    "node2.data = '솔라'\n",
    "node1.left = node2 "
   ]
  },
  {
   "cell_type": "code",
   "execution_count": 125,
   "metadata": {},
   "outputs": [],
   "source": [
    "node3 = TreeNode()\n",
    "node3.data = '문별'\n",
    "node1.right = node3 "
   ]
  },
  {
   "cell_type": "code",
   "execution_count": 126,
   "metadata": {},
   "outputs": [],
   "source": [
    "node4 = TreeNode()\n",
    "node4.data = '휘인'\n",
    "node2.left = node4 "
   ]
  },
  {
   "cell_type": "code",
   "execution_count": 127,
   "metadata": {},
   "outputs": [],
   "source": [
    "node5 = TreeNode()\n",
    "node5.data = '쯔위'\n",
    "node2.right = node5 "
   ]
  },
  {
   "cell_type": "code",
   "execution_count": 128,
   "metadata": {},
   "outputs": [],
   "source": [
    "node6 = TreeNode()\n",
    "node6.data = '선미'\n",
    "node3.left = node6 "
   ]
  },
  {
   "cell_type": "code",
   "execution_count": 129,
   "metadata": {},
   "outputs": [
    {
     "name": "stdout",
     "output_type": "stream",
     "text": [
      "\t      화사\n",
      "\t ┌──┴──┐\n",
      "\t솔라        문별\n",
      "  ┌──┴──┐ ┌──┴──┐\n",
      " 휘인      쯔위 선미\n"
     ]
    }
   ],
   "source": [
    "print(f'\\t      {node1.data}')\n",
    "print('\\t ┌──┴──┐')\n",
    "print(f'\\t{node1.left.data}        {node1.right.data}') # left = node2, right = node3 \n",
    "print('  ┌──┴──┐','┌──┴──┐')\n",
    "print(f' {node2.left.data}      {node2.right.data} {node3.left.data}')"
   ]
  },
  {
   "cell_type": "markdown",
   "metadata": {},
   "source": [
    "3. 이진트리 순회(traversal) "
   ]
  },
  {
   "cell_type": "code",
   "execution_count": 130,
   "metadata": {},
   "outputs": [],
   "source": [
    "# 화사 솔라 휘인 쯔위 문별 선미\n",
    "\n",
    "# 전위 순회(preorder traversal) : 루트 -> 왼쪽 -> 오른쪽 \n",
    "\n",
    "def preorder(node):\n",
    "    if node == None : return\n",
    "\n",
    "    print(node.data, end = ' -> ')\n",
    "    preorder(node.left)\n",
    "    preorder(node.right)"
   ]
  },
  {
   "cell_type": "code",
   "execution_count": 131,
   "metadata": {},
   "outputs": [
    {
     "name": "stdout",
     "output_type": "stream",
     "text": [
      "전위순회(preorder traversal) : 화사 -> 솔라 -> 휘인 -> 쯔위 -> 문별 -> 선미 -> < End >\n"
     ]
    }
   ],
   "source": [
    "print('전위순회(preorder traversal) : ', end='')\n",
    "preorder(node1)\n",
    "print('< End >')"
   ]
  },
  {
   "cell_type": "code",
   "execution_count": 132,
   "metadata": {},
   "outputs": [],
   "source": [
    "# 중위 순회(inorder traversal) :  왼쪽 -> 루트 -> 오른쪽 \n",
    "\n",
    "def inorder(node):\n",
    "    if node == None : return\n",
    "\n",
    "    inorder(node.left)\n",
    "    print(node.data, end = ' -> ')\n",
    "    inorder(node.right)"
   ]
  },
  {
   "cell_type": "code",
   "execution_count": 133,
   "metadata": {},
   "outputs": [
    {
     "name": "stdout",
     "output_type": "stream",
     "text": [
      "중위순회(inorder traversal) : 휘인 -> 솔라 -> 쯔위 -> 화사 -> 선미 -> 문별 -> < End >\n"
     ]
    }
   ],
   "source": [
    "print('중위순회(inorder traversal) : ', end='')\n",
    "inorder(node1)\n",
    "print('< End >')"
   ]
  },
  {
   "cell_type": "code",
   "execution_count": 134,
   "metadata": {},
   "outputs": [],
   "source": [
    "# 후위 순회(postorder traversal) :  왼쪽 -> 오른쪽 -> 루트 \n",
    "\n",
    "def postorder(node):\n",
    "    if node == None : return\n",
    "\n",
    "    postorder(node.left)\n",
    "    postorder(node.right)\n",
    "    print(node.data, end = ' -> ')"
   ]
  },
  {
   "cell_type": "code",
   "execution_count": 135,
   "metadata": {},
   "outputs": [
    {
     "name": "stdout",
     "output_type": "stream",
     "text": [
      "후위순회(inorder traversal) : 휘인 -> 쯔위 -> 솔라 -> 선미 -> 문별 -> 화사 -> < End >\n"
     ]
    }
   ],
   "source": [
    "print('후위순회(inorder traversal) : ', end='')\n",
    "postorder(node1)\n",
    "print('< End >')"
   ]
  },
  {
   "cell_type": "markdown",
   "metadata": {},
   "source": [
    "### 이진 탐색 트리 구현\n",
    "1. 기초작업 "
   ]
  },
  {
   "cell_type": "code",
   "execution_count": 136,
   "metadata": {},
   "outputs": [],
   "source": [
    "root = None\n",
    "groupList = ['블랙핑크','레드벨벳','마마무','에이핑크','걸스데이','트와이스']"
   ]
  },
  {
   "cell_type": "code",
   "execution_count": 137,
   "metadata": {},
   "outputs": [],
   "source": [
    "# 루트 노드 생성\n",
    "node = TreeNode \n",
    "node.data = groupList[0] # 블랙핑크\n",
    "root = node "
   ]
  },
  {
   "cell_type": "code",
   "execution_count": 138,
   "metadata": {},
   "outputs": [
    {
     "data": {
      "text/plain": [
       "'블랙핑크'"
      ]
     },
     "execution_count": 138,
     "metadata": {},
     "output_type": "execute_result"
    }
   ],
   "source": [
    "root.data"
   ]
  },
  {
   "cell_type": "code",
   "execution_count": 139,
   "metadata": {},
   "outputs": [
    {
     "data": {
      "text/plain": [
       "True"
      ]
     },
     "execution_count": 139,
     "metadata": {},
     "output_type": "execute_result"
    }
   ],
   "source": [
    "'레드벨벳' < '블랙핑크' # True -> why? 가나다 순"
   ]
  },
  {
   "cell_type": "code",
   "execution_count": 140,
   "metadata": {},
   "outputs": [],
   "source": [
    "node = TreeNode()\n",
    "node.data = groupList[1] # 레드벨벳 \n",
    "curr = root\n",
    "if node.data < curr.data : \n",
    "    curr.left = node # 레드벨벳이 블랙핑크보다 작으니까 왼쪽으로 보냄\n",
    "else :\n",
    "    curr.right = node "
   ]
  }
 ],
 "metadata": {
  "kernelspec": {
   "display_name": "Python 3",
   "language": "python",
   "name": "python3"
  },
  "language_info": {
   "codemirror_mode": {
    "name": "ipython",
    "version": 3
   },
   "file_extension": ".py",
   "mimetype": "text/x-python",
   "name": "python",
   "nbconvert_exporter": "python",
   "pygments_lexer": "ipython3",
   "version": "3.11.5"
  }
 },
 "nbformat": 4,
 "nbformat_minor": 2
}
